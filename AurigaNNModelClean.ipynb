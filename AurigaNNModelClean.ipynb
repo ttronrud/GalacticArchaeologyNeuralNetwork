{
 "cells": [
  {
   "cell_type": "code",
   "execution_count": 1,
   "metadata": {},
   "outputs": [],
   "source": [
    "#Various imports we use\n",
    "import tensorflow as tf\n",
    "import numpy as np\n",
    "from tensorflow import keras\n",
    "import pandas as pd\n",
    "import matplotlib as mpl\n",
    "import matplotlib.pyplot as plt\n",
    "import seaborn as sns\n",
    "from tensorflow.keras.optimizers import SGD\n",
    "import os\n",
    "from tensorflow.keras.utils import to_categorical\n",
    "import tensorflow.keras.backend as K\n",
    "import tensorflow.keras.callbacks\n",
    "import utils"
   ]
  },
  {
   "cell_type": "code",
   "execution_count": 12,
   "metadata": {},
   "outputs": [
    {
     "name": "stdout",
     "output_type": "stream",
     "text": [
      "Using 40000\n"
     ]
    }
   ],
   "source": [
    "#This is a very basic example of loading some data, training the model, and \n",
    "#performing predictions on a test dataset\n",
    "\n",
    "### These first few lines are specifically for the utils.import_data method, and aren't strictly necessary\n",
    "### if you have your own pipeline.\n",
    "########################\n",
    "#Selected Auriga halo\n",
    "HALO = 14\n",
    "#Total number of training particles\n",
    "N_TRAINING = 80000\n",
    "#maximum alpha/Fe allowed, due to low Fe this is required\n",
    "alphaMax = 1e10\n",
    "#noise to add to chemical data\n",
    "NOISE = 0\n",
    "#columns of data to drop/ignore before feeding into the model\n",
    "DROP_COL = ['X','Y','Z','M','R', 'epsJ', 'Ne', 'Mg', 'C','N','He', 'Si', 'O', 'z', 'Vr', 'BE', 'Lz', 'pkmassid'] #\n",
    "\n",
    "\n",
    "#Import the disc's data, and make a full copy with all the information for later\n",
    "training_data = utils.import_data(to_drop = [], dat=False,alpha_max=alphaMax,chem_noise = NOISE)\n",
    "\n",
    "#Remove the to-drop data from the set we'll continue with\n",
    "data = training_data.drop(DROP_COL, axis=1)\n",
    "\n",
    "#If you're loading from multiple sources, you can construct multiple datasets with a loop\n",
    "#combine them into a list data_app = [tdata1, tdata2,...]\n",
    "#and the concatenate them into a combined training set!\n",
    "#We then use .sample(frac=1) to shuffle everything\n",
    "data_app = [data]\n",
    "data_t = pd.concat(data_app,ignore_index=True).sample(frac=1)\n",
    "\n",
    "#Important for GANN is that this training data is uniformly considered to be accreted\n",
    "#EVEN IF IT's NOT TRUE!\n",
    "#This is mimicking observational constraints\n",
    "#Not to mention, this training set should be halo and satellite stars,\n",
    "#Sats are obviously really \"accreted\", but the halo should be >99%\n",
    "#So we set the acc_label column to a ones vector of the same size\n",
    "data_t['acc_label'] = np.ones(data_t.index.values.shape[0])\n",
    "\n",
    "#Now, we want the length of the training data, so that we can sample an equal number\n",
    "#of particles from the test data set (the disc!)\n",
    "#You can, alternatively, generate your own in-situ training data,\n",
    "#using clever slices of stars to minimize the chance of contamination\n",
    "#but for the paper I didn't, because examining worst-cases is more interesting\n",
    "N = data_t.index.shape[0]\n",
    "N = int(min(N,N_TRAINING/2)) #If N > the number we want, we'll subsample\n",
    "acc_dat = data_t.sample(n=N) #this will just shuffle if N <= N_TRAINING\n",
    "#We've now generated the accreted half of our training set!\n",
    "#Now on to the in-situ, which we'll sample from the \"evaluation\" disc data\n",
    "#under the assumption that f_acc in the disc is low.\n",
    "#Not technically safe, but we're pretending to be more constrained than we are!\n",
    "#there *will* be contamination, because f_acc *should* be > 0 (otherwise it's a boring search haha)\n",
    "\n",
    "#Make a full copy - for use in visualization of correlations, etc.\n",
    "#This is *very* useful, as you can train the model on the restricted set,\n",
    "#create filters based on the labels, and apply those filters to the \n",
    "#full testing set! That way you can examine values that you don't\n",
    "#use in the network itself\n",
    "test_dat_full = utils.import_data(to_drop = [], dat=True, alpha_max=alphaMax,chem_noise = NOISE)\n",
    "#Grab a chunk of data to use in the training set\n",
    "#the number should match the size of the accreted contribution\n",
    "print(\"Using %d\"%(N))\n",
    "ins_dat = test_dat_full.sample(n=N)\n",
    "#remove unncessary columns from in-situ training data\n",
    "ins_dat = ins_dat.drop(DROP_COL, axis=1)\n",
    "#for the training data, we set its label to 0\n",
    "ins_dat['acc_label'] = np.zeros(ins_dat.index.values.shape[0])\n",
    "\n",
    "#build the full training set by concatenating the acc and ins data\n",
    "train_dat = pd.concat([acc_dat, ins_dat],ignore_index=True).sample(frac=1)\n",
    "#we pop off the labels for comparison/validation\n",
    "train_lab = train_dat.pop('acc_label')\n",
    "\n",
    "#We take the rest and create the validation set, with labels\n",
    "test_dat = test_dat_full.copy()\n",
    "#Once again, remove the unneeded columns from the data\n",
    "test_dat = test_dat.drop(DROP_COL, axis=1)\n",
    "#and pop off the labels for later!\n",
    "test_lab = test_dat.pop('acc_label')"
   ]
  },
  {
   "cell_type": "code",
   "execution_count": 20,
   "metadata": {},
   "outputs": [
    {
     "name": "stdout",
     "output_type": "stream",
     "text": [
      "Epoch 1/30\n",
      "2500/2500 [==============================] - 4s 1ms/step - loss: 0.2700 - accuracy: 0.8936 - false_positives_6: 2979.2363\n",
      "Epoch 2/30\n",
      "2500/2500 [==============================] - 3s 1ms/step - loss: 0.2316 - accuracy: 0.9118 - false_positives_6: 2824.6605\n",
      "Epoch 3/30\n",
      "2500/2500 [==============================] - 3s 1ms/step - loss: 0.2332 - accuracy: 0.9091 - false_positives_6: 2877.5722\n",
      "Epoch 4/30\n",
      "2500/2500 [==============================] - 3s 1ms/step - loss: 0.2255 - accuracy: 0.9142 - false_positives_6: 2810.3259\n",
      "Epoch 5/30\n",
      "2500/2500 [==============================] - 3s 1ms/step - loss: 0.2249 - accuracy: 0.9137 - false_positives_6: 2842.5910\n",
      "Epoch 6/30\n",
      "2500/2500 [==============================] - 4s 1ms/step - loss: 0.2238 - accuracy: 0.9144 - false_positives_6: 2814.6781\n",
      "Epoch 7/30\n",
      "2500/2500 [==============================] - 3s 1ms/step - loss: 0.2227 - accuracy: 0.9140 - false_positives_6: 2819.9816\n",
      "Epoch 8/30\n",
      "2500/2500 [==============================] - 3s 1ms/step - loss: 0.2224 - accuracy: 0.9151 - false_positives_6: 2817.6489\n",
      "Epoch 9/30\n",
      "2500/2500 [==============================] - 4s 1ms/step - loss: 0.2202 - accuracy: 0.9165 - false_positives_6: 2708.5250\n",
      "Epoch 10/30\n",
      "2500/2500 [==============================] - 3s 1ms/step - loss: 0.2225 - accuracy: 0.9145 - false_positives_6: 2834.2895\n",
      "Epoch 11/30\n",
      "2500/2500 [==============================] - 3s 1ms/step - loss: 0.2243 - accuracy: 0.9140 - false_positives_6: 2818.8357\n",
      "Epoch 12/30\n",
      "2500/2500 [==============================] - 3s 1ms/step - loss: 0.2200 - accuracy: 0.9162 - false_positives_6: 2786.6573\n",
      "Epoch 13/30\n",
      "2500/2500 [==============================] - 3s 1ms/step - loss: 0.2192 - accuracy: 0.9172 - false_positives_6: 2732.0044\n",
      "Epoch 14/30\n",
      "2500/2500 [==============================] - 4s 1ms/step - loss: 0.2221 - accuracy: 0.9140 - false_positives_6: 2804.8037\n",
      "Epoch 15/30\n",
      "2500/2500 [==============================] - 3s 1ms/step - loss: 0.2207 - accuracy: 0.9149 - false_positives_6: 2830.0860\n",
      "Epoch 16/30\n",
      "2500/2500 [==============================] - 3s 1ms/step - loss: 0.2245 - accuracy: 0.9137 - false_positives_6: 2826.4986\n",
      "Epoch 17/30\n",
      "2500/2500 [==============================] - 3s 1ms/step - loss: 0.2153 - accuracy: 0.9177 - false_positives_6: 2748.6617\n",
      "Epoch 18/30\n",
      "2500/2500 [==============================] - 3s 1ms/step - loss: 0.2210 - accuracy: 0.9155 - false_positives_6: 2776.0992\n",
      "Epoch 19/30\n",
      "2500/2500 [==============================] - 3s 1ms/step - loss: 0.2161 - accuracy: 0.9176 - false_positives_6: 2779.6369\n",
      "Epoch 20/30\n",
      "2500/2500 [==============================] - 4s 1ms/step - loss: 0.2243 - accuracy: 0.9132 - false_positives_6: 2834.6433\n",
      "Epoch 21/30\n",
      "2500/2500 [==============================] - 3s 1ms/step - loss: 0.2199 - accuracy: 0.9157 - false_positives_6: 2765.9428\n",
      "Epoch 22/30\n",
      "2500/2500 [==============================] - 4s 2ms/step - loss: 0.2224 - accuracy: 0.9145 - false_positives_6: 2727.0552\n",
      "Epoch 23/30\n",
      "2500/2500 [==============================] - 4s 2ms/step - loss: 0.2199 - accuracy: 0.9156 - false_positives_6: 2734.7581A: 1s - loss: 0.2205 - accuracy\n",
      "Epoch 24/30\n",
      "2500/2500 [==============================] - 3s 1ms/step - loss: 0.2176 - accuracy: 0.9167 - false_positives_6: 2732.3571\n",
      "Epoch 25/30\n",
      "2500/2500 [==============================] - 4s 1ms/step - loss: 0.2231 - accuracy: 0.9153 - false_positives_6: 2731.7209\n",
      "Epoch 26/30\n",
      "2500/2500 [==============================] - 3s 1ms/step - loss: 0.2152 - accuracy: 0.9175 - false_positives_6: 2709.5306\n",
      "Epoch 27/30\n",
      "2500/2500 [==============================] - 3s 1ms/step - loss: 0.2183 - accuracy: 0.9155 - false_positives_6: 2763.2823\n",
      "Epoch 28/30\n",
      "2500/2500 [==============================] - 4s 1ms/step - loss: 0.2234 - accuracy: 0.9119 - false_positives_6: 2882.0992\n",
      "Epoch 29/30\n",
      "2500/2500 [==============================] - 4s 1ms/step - loss: 0.2211 - accuracy: 0.9144 - false_positives_6: 2773.4514\n",
      "Epoch 30/30\n",
      "2500/2500 [==============================] - 4s 1ms/step - loss: 0.2205 - accuracy: 0.9147 - false_positives_6: 2748.9896\n"
     ]
    }
   ],
   "source": [
    "Nmul = 1\n",
    "N_NEURON_BASE = 32\n",
    "#Here we define the model's layers\n",
    "#I've set it up to use the length of the training data's keys as the input vector size,\n",
    "#which means the network will adjust as you add/remove data columns\n",
    "model = tf.keras.Sequential([\n",
    "    #the batchnorm layer will help with performance a ton, and prevent \n",
    "    #larger input values from initially dominating while the network\n",
    "    #\"learns\" to adjust those weights\n",
    "    tf.keras.layers.BatchNormalization(input_shape=[len(train_dat.keys())]),  \n",
    "    #Next are all dense (interconnected) layers, where the deep-learning happens\n",
    "    tf.keras.layers.Dense(Nmul * 2 * N_NEURON_BASE,activation=tf.nn.selu,kernel_initializer=tf.keras.initializers.lecun_normal(seed=None)),\n",
    "    tf.keras.layers.Dense(Nmul * 8 * N_NEURON_BASE,activation=tf.nn.selu,kernel_initializer=tf.keras.initializers.lecun_normal(seed=None)),\n",
    "    tf.keras.layers.Dense(Nmul * 2 * N_NEURON_BASE,activation=tf.nn.selu,kernel_initializer=tf.keras.initializers.lecun_normal(seed=None)), ##New\n",
    "    tf.keras.layers.Dense(Nmul * N_NEURON_BASE,activation=tf.nn.selu,kernel_initializer=tf.keras.initializers.lecun_normal(seed=None)),\n",
    "    #finally, our output uses a single sigmoid neuron to output a probability-like value\n",
    "    #(can't say probability, because a statistician might get mad)\n",
    "    tf.keras.layers.Dense(1,activation='sigmoid')\n",
    "])\n",
    "#the compilation info\n",
    "model.compile(optimizer=keras.optimizers.Adam(learning_rate=0.001),\n",
    "              #We use BCE, because it's perfect for this use-case\n",
    "              loss=tf.keras.losses.BinaryCrossentropy(), \n",
    "              #We sorta care about accuracy, but definitely about false positives\n",
    "              metrics=['accuracy',tf.keras.metrics.FalsePositives(thresholds=0.5)])\n",
    "tf.get_logger().setLevel('ERROR')\n",
    "#Set up early stopping and plateau learning-rate reduction\n",
    "#optional, and can sometimes make the model give up on improving\n",
    "#earlyStopping = tf.keras.callbacks.EarlyStopping(monitor='loss', patience=5, verbose=0, mode='auto',restore_best_weights=True)\n",
    "#reduce_lr_loss = tf.keras.callbacks.ReduceLROnPlateau(monitor='loss', factor=0.1, patience=0, verbose=1, epsilon=1e-4, mode='min')\n",
    "#and here we execute the fitting procedure, and save the model\n",
    "model.fit(train_dat, train_lab, epochs=30)#, callbacks=[earlyStopping,reduce_lr_loss])\n",
    "model.save(\"models/auriga_test.h5\")"
   ]
  },
  {
   "cell_type": "code",
   "execution_count": 21,
   "metadata": {},
   "outputs": [
    {
     "name": "stdout",
     "output_type": "stream",
     "text": [
      "Correct:  0.6814622746114873\n",
      "Incorrect:  0.10726104979444226\n"
     ]
    },
    {
     "data": {
      "image/png": "[encoded data removed]",
      "text/plain": [
       "<Figure size 432x288 with 1 Axes>"
      ]
     },
     "metadata": {
      "needs_background": "light"
     },
     "output_type": "display_data"
    },
    {
     "name": "stdout",
     "output_type": "stream",
     "text": [
      "Correct:  0.9572374767241588\n",
      "Incorrect:  0.04276252327584122\n"
     ]
    },
    {
     "data": {
      "image/png": "[encoded data removed]",
      "text/plain": [
       "<Figure size 432x288 with 1 Axes>"
      ]
     },
     "metadata": {
      "needs_background": "light"
     },
     "output_type": "display_data"
    }
   ],
   "source": [
    "#how's it doing for accreted stars\n",
    "#the model save/load between cells isn't strictly necessary,\n",
    "#but ipython notebooks allow us to not have to re-run the entire program to use \n",
    "#the generated model!\n",
    "#Here we load the saved model:\n",
    "model = keras.models.load_model(\"models/auriga_test.h5\")\n",
    "#And we'll compare its performance with the accreted evaluation stars:\n",
    "pred_acc = model.predict(test_dat.loc[test_lab == 1])\n",
    "THRESHOLD = 0.75\n",
    "#We can then split this pop into correct (P_a > THRESHOLD)\n",
    "guess_acc_fi = (pred_acc >= THRESHOLD)\n",
    "#And those below 0.5\n",
    "#We leave the between-ers in a sort of \"limbo\"\n",
    "#since the model considers them likely-accreted (>0.5),\n",
    "#but it's not confident enough for us to care\n",
    "wrong_guess_acc_fi = (pred_acc < 0.5)\n",
    "#output the performance fractions\n",
    "print(\"Correct: \",1.0*len(pred_acc[guess_acc_fi])/ len(pred_acc))\n",
    "print(\"Incorrect: \",1.0*len(pred_acc[wrong_guess_acc_fi])/ len(pred_acc))\n",
    "#And create a quick histogram of the P_a distribution of accreted stars\n",
    "plt.hist(pred_acc, bins=25)\n",
    "plt.title(\"Accreted Stars\")\n",
    "plt.xlabel(r\"$P_{\\rm a}$\",fontsize=24)\n",
    "plt.show()\n",
    "plt.close()\n",
    "\n",
    "#Now we select the in-situ stars\n",
    "pred_ins = model.predict(test_dat[test_lab == 0])\n",
    "#and do the same. \n",
    "#For in-situ, incorrect is P_a > 0.5\n",
    "guess_acc_fi = (pred_ins < 0.5)\n",
    "wrong_guess_acc_fi = (pred_ins >= 0.5)\n",
    "print(\"Correct: \",1.0*len(pred_ins[guess_acc_fi])/ len(pred_ins))\n",
    "print(\"Incorrect: \",1.0*len(pred_ins[wrong_guess_acc_fi])/ len(pred_ins))\n",
    "#And make a pretty little histogram\n",
    "plt.hist(pred_ins, bins=25)\n",
    "plt.title(\"In-Situ Stars\")\n",
    "plt.xlabel(r\"$P_{\\rm a}$\",fontsize=24)\n",
    "plt.show()\n",
    "plt.close()"
   ]
  },
  {
   "cell_type": "code",
   "execution_count": null,
   "metadata": {},
   "outputs": [],
   "source": []
  }
 ],
 "metadata": {
  "kernelspec": {
   "display_name": "Python 3",
   "language": "python",
   "name": "python3"
  },
  "language_info": {
   "codemirror_mode": {
    "name": "ipython",
    "version": 3
   },
   "file_extension": ".py",
   "mimetype": "text/x-python",
   "name": "python",
   "nbconvert_exporter": "python",
   "pygments_lexer": "ipython3",
   "version": "3.7.6"
  }
 },
 "nbformat": 4,
 "nbformat_minor": 4
}
